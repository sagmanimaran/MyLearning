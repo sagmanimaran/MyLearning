{
 "cells": [
  {
   "cell_type": "code",
   "execution_count": 1,
   "metadata": {
    "scrolled": true
   },
   "outputs": [
    {
     "name": "stdout",
     "output_type": "stream",
     "text": [
      "myArray=  [1 2 3 4]\n",
      "myNewArray=  [11 12 13 14]\n"
     ]
    }
   ],
   "source": [
    "import numpy as np\n",
    "\n",
    "#defining a python list\n",
    "myList=[1,2,3,4]\n",
    "\n",
    "#converting the python list into numpy array\n",
    "myArray=np.array(myList)\n",
    "\n",
    "#print the array\n",
    "print(\"myArray= \", myArray)\n",
    "\n",
    "\n",
    "#arithmetic operations\n",
    "myNewArray=myArray + 10\n",
    "print(\"myNewArray= \", myNewArray)\n",
    "\n"
   ]
  },
  {
   "cell_type": "code",
   "execution_count": 2,
   "metadata": {},
   "outputs": [
    {
     "name": "stdout",
     "output_type": "stream",
     "text": [
      "Dimension:  1\n",
      "Shape:  (4,)\n",
      "Type:  int32\n",
      "Element Size:  4\n",
      "Array Size  :  4\n"
     ]
    }
   ],
   "source": [
    "#dimension of the array\n",
    "#arrayname.ndim\n",
    "print(\"Dimension: \", myArray.ndim)\n",
    "\n",
    "#shape of the array\n",
    "#arrayname.shape\n",
    "print(\"Shape: \", myArray.shape)\n",
    "\n",
    "#type of the array\n",
    "#arrayname.dtype\n",
    "print(\"Type: \",myArray.dtype)\n",
    "\n",
    "#Element Size of the array\n",
    "#arrayname.itemsize\n",
    "print(\"Element Size: \", myArray.itemsize)\n",
    "\n",
    "#array size \n",
    "#arrayname.size\n",
    "print(\"Array Size  : \",myArray.size)\n"
   ]
  },
  {
   "cell_type": "code",
   "execution_count": 3,
   "metadata": {},
   "outputs": [
    {
     "name": "stdout",
     "output_type": "stream",
     "text": [
      "2D Array :  [[1 2 3]\n",
      " [4 5 6]\n",
      " [7 8 9]]\n",
      "Dimension :  2\n",
      "2D Array Shape (rows,elements) :  (3, 3)\n",
      "3D Array:  [[[1 2 3]\n",
      "  [4 5 6]]\n",
      "\n",
      " [[1 2 3]\n",
      "  [4 5 6]]\n",
      "\n",
      " [[1 2 3]\n",
      "  [4 5 6]]]\n",
      "Dimension :  3\n",
      "3D Array Shape (rows,columns,elements) :  (3, 2, 3)\n"
     ]
    }
   ],
   "source": [
    "#2D array\n",
    "twoArray = np.array([(1,2,3),\n",
    "                    (4,5,6),\n",
    "                    (7,8,9)])\n",
    "print(\"2D Array : \",twoArray)\n",
    "print(\"Dimension : \",twoArray.ndim)\n",
    "print(\"2D Array Shape (rows,elements) : \", twoArray.shape)\n",
    "\n",
    "#3D array\n",
    "threeArray=np.array([\n",
    "    [(1,2,3),(4,5,6)],\n",
    "    [(1,2,3),(4,5,6)],\n",
    "    [(1,2,3),(4,5,6)]\n",
    "   \n",
    "])\n",
    "print(\"3D Array: \",threeArray)\n",
    "print(\"Dimension : \",threeArray.ndim)\n",
    "print(\"3D Array Shape (rows,columns,elements) : \",threeArray.shape)"
   ]
  },
  {
   "cell_type": "code",
   "execution_count": 4,
   "metadata": {},
   "outputs": [
    {
     "name": "stdout",
     "output_type": "stream",
     "text": [
      "[[1 2 3]\n",
      " [4 5 6]]\n",
      "My Array Shape: (2, 3)\n",
      "[[1 2]\n",
      " [3 4]\n",
      " [5 6]]\n",
      "Reshaped Array Shape:  (3, 2)\n"
     ]
    }
   ],
   "source": [
    "#Reshaping\n",
    "# 1 2 3   ->  1 2\n",
    "# 4 5 6   ->  3 4\n",
    "#         ->  5 6\n",
    "\n",
    "myArray=np.array([(1,2,3),(4,5,6)])\n",
    "print(myArray)\n",
    "print(\"My Array Shape:\", myArray.shape)\n",
    "\n",
    "#reshape(rows,elements)\n",
    "reshapedArray=myArray.reshape(3,2)\n",
    "print(reshapedArray)\n",
    "print(\"Reshaped Array Shape: \",reshapedArray.shape)"
   ]
  },
  {
   "cell_type": "code",
   "execution_count": 5,
   "metadata": {},
   "outputs": [
    {
     "name": "stdout",
     "output_type": "stream",
     "text": [
      "[[1 2 3]\n",
      " [4 5 6]]\n",
      "3\n",
      "[3 6]\n",
      "[[1 2]\n",
      " [4 5]]\n"
     ]
    }
   ],
   "source": [
    "#Slicing\n",
    "#picking particular values\n",
    "\n",
    "print(myArray)\n",
    "#slicing third element from the first row\n",
    "print(myArray[0,2])\n",
    "#slicing third element from all the rows\n",
    "print(myArray[0:,2])\n",
    "#slicing first two elements from all the rows\n",
    "print(myArray[0:,0:2])"
   ]
  },
  {
   "cell_type": "code",
   "execution_count": 6,
   "metadata": {},
   "outputs": [
    {
     "name": "stdout",
     "output_type": "stream",
     "text": [
      "[1.         1.11111111 1.22222222 1.33333333 1.44444444 1.55555556\n",
      " 1.66666667 1.77777778 1.88888889 2.        ]\n",
      "Maximum :  2.0\n",
      "Minimum :  1.0\n",
      "Sum :  15.0\n",
      "Sqaure Root :   [1.         1.05409255 1.1055416  1.15470054 1.20185043 1.24721913\n",
      " 1.29099445 1.33333333 1.37436854 1.41421356]\n",
      "Standard Deviation :  0.31914236925211265\n"
     ]
    }
   ],
   "source": [
    "#Spacing, Maximum, Minimum, Sum, Square Root, Standard Deviation\n",
    "\n",
    "#linspace(start,end,no. of values)\n",
    "myArray=np.linspace(1,2,10)\n",
    "print(myArray)\n",
    "\n",
    "#maximum\n",
    "print(\"Maximum : \", myArray.max())\n",
    "#minimum\n",
    "print(\"Minimum : \", myArray.min())\n",
    "#sum\n",
    "print(\"Sum : \", myArray.sum())\n",
    "\n",
    "#note the difference in the syntax of square root and standard deviation\n",
    "#square root\n",
    "print(\"Sqaure Root :  \",np.sqrt(myArray))\n",
    "#standard deviation\n",
    "print(\"Standard Deviation : \",np.std(myArray))"
   ]
  },
  {
   "cell_type": "code",
   "execution_count": 7,
   "metadata": {},
   "outputs": [
    {
     "name": "stdout",
     "output_type": "stream",
     "text": [
      "Sum across the Rows [5 7 9]\n",
      "Sum across the Columns [ 6 15]\n",
      "Minimum values across the columns [1 4]\n",
      "Minimum values across the rows [1 2 3]\n"
     ]
    }
   ],
   "source": [
    "#Axes\n",
    "#Rows- Axis 1\n",
    "#Columns - Axis 0\n",
    "\n",
    "myArray=np.array([\n",
    "    (1,2,3),\n",
    "    (4,5,6)  \n",
    "])\n",
    "print(\"Sum across the Rows\",myArray.sum(axis=0))\n",
    "print(\"Sum across the Columns\",myArray.sum(axis=1))\n",
    "print(\"Minimum values across the columns\",myArray.min(axis=1))\n",
    "print(\"Minimum values across the rows\",myArray.min(axis=0))"
   ]
  },
  {
   "cell_type": "code",
   "execution_count": 8,
   "metadata": {},
   "outputs": [
    {
     "name": "stdout",
     "output_type": "stream",
     "text": [
      "Array 3 :  [[ 8 10 12]\n",
      " [ 5  7  9]]\n"
     ]
    }
   ],
   "source": [
    "#Arithmetic Operations \n",
    "#result=a1+a2\n",
    "#result=a1-a2\n",
    "#result=a1*a2\n",
    "#result=a1/a2\n",
    "\n",
    "array1=np.array([(1,2,3),(4,5,6)])\n",
    "array2=np.array([(7,8,9),(1,2,3)])\n",
    "array3=array1+array2\n",
    "print(\"Array 3 : \", array3)"
   ]
  },
  {
   "cell_type": "code",
   "execution_count": 9,
   "metadata": {},
   "outputs": [
    {
     "name": "stdout",
     "output_type": "stream",
     "text": [
      "[[ 1  2  3]\n",
      " [ 4  5  6]\n",
      " [ 7  8  9]\n",
      " [10 11 12]\n",
      " [ 1  1  1]\n",
      " [ 1  1  1]]\n",
      "[[ 1  2  3  7  8  9]\n",
      " [ 4  5  6 10 11 12]]\n"
     ]
    }
   ],
   "source": [
    "#Vertical and Horizontal Stacking\n",
    "#np.vstack((a1,a2,...))\n",
    "#np.hstack((a1,a2,...))\n",
    "\n",
    "array1=np.array([(1,2,3),(4,5,6)])\n",
    "array2=np.array([(7,8,9),(10,11,12)])\n",
    "array3=np.array([(1,1,1),(1,1,1)])\n",
    "print(np.vstack((array1,array2,array3)))\n",
    "print(np.hstack((array1,array2)))"
   ]
  },
  {
   "cell_type": "code",
   "execution_count": 10,
   "metadata": {},
   "outputs": [
    {
     "name": "stdout",
     "output_type": "stream",
     "text": [
      "[1 2 3 4 5 6 7 8 9]\n"
     ]
    }
   ],
   "source": [
    "#ravel\n",
    "#converting multiline into a single line\n",
    "#arrayname.ravel()\n",
    "\n",
    "array1=np.array([(1,2,3),(4,5,6),(7,8,9)])\n",
    "print(array1.ravel())"
   ]
  },
  {
   "cell_type": "code",
   "execution_count": 11,
   "metadata": {},
   "outputs": [
    {
     "ename": "AttributeError",
     "evalue": "module 'numpy' has no attribute 'arrange'",
     "output_type": "error",
     "traceback": [
      "\u001b[1;31m---------------------------------------------------------------------------\u001b[0m",
      "\u001b[1;31mAttributeError\u001b[0m                            Traceback (most recent call last)",
      "\u001b[1;32m<ipython-input-11-1b730ebd4542>\u001b[0m in \u001b[0;36m<module>\u001b[1;34m\u001b[0m\n\u001b[0;32m      2\u001b[0m \u001b[1;33m\u001b[0m\u001b[0m\n\u001b[0;32m      3\u001b[0m \u001b[1;32mimport\u001b[0m \u001b[0mmatplotlib\u001b[0m\u001b[1;33m.\u001b[0m\u001b[0mpyplot\u001b[0m \u001b[1;32mas\u001b[0m \u001b[0mplt\u001b[0m\u001b[1;33m\u001b[0m\u001b[1;33m\u001b[0m\u001b[0m\n\u001b[1;32m----> 4\u001b[1;33m \u001b[0mx\u001b[0m\u001b[1;33m=\u001b[0m\u001b[0mnp\u001b[0m\u001b[1;33m.\u001b[0m\u001b[0marrange\u001b[0m\u001b[1;33m(\u001b[0m\u001b[1;36m0\u001b[0m\u001b[1;33m,\u001b[0m\u001b[1;36m3\u001b[0m\u001b[1;33m*\u001b[0m\u001b[0mpi\u001b[0m\u001b[1;33m,\u001b[0m\u001b[1;36m0.1\u001b[0m\u001b[1;33m)\u001b[0m\u001b[1;33m\u001b[0m\u001b[1;33m\u001b[0m\u001b[0m\n\u001b[0m\u001b[0;32m      5\u001b[0m \u001b[0my\u001b[0m\u001b[1;33m=\u001b[0m\u001b[0mnp\u001b[0m\u001b[1;33m.\u001b[0m\u001b[0msin\u001b[0m\u001b[1;33m(\u001b[0m\u001b[0mx\u001b[0m\u001b[1;33m)\u001b[0m\u001b[1;33m\u001b[0m\u001b[1;33m\u001b[0m\u001b[0m\n\u001b[0;32m      6\u001b[0m \u001b[0mplt\u001b[0m\u001b[1;33m.\u001b[0m\u001b[0mplot\u001b[0m\u001b[1;33m(\u001b[0m\u001b[0mx\u001b[0m\u001b[1;33m,\u001b[0m\u001b[0my\u001b[0m\u001b[1;33m)\u001b[0m\u001b[1;33m\u001b[0m\u001b[1;33m\u001b[0m\u001b[0m\n",
      "\u001b[1;31mAttributeError\u001b[0m: module 'numpy' has no attribute 'arrange'"
     ]
    }
   ],
   "source": [
    "#Special Functions\n",
    "\n",
    "import matplotlib.pyplot as plt\n",
    "x=np.arrange(0,3*pi,0.1)\n",
    "y=np.sin(x)\n",
    "plt.plot(x,y)\n",
    "plt.show()"
   ]
  },
  {
   "cell_type": "code",
   "execution_count": null,
   "metadata": {},
   "outputs": [],
   "source": []
  },
  {
   "cell_type": "code",
   "execution_count": null,
   "metadata": {},
   "outputs": [],
   "source": []
  }
 ],
 "metadata": {
  "kernelspec": {
   "display_name": "Python 3",
   "language": "python",
   "name": "python3"
  },
  "language_info": {
   "codemirror_mode": {
    "name": "ipython",
    "version": 3
   },
   "file_extension": ".py",
   "mimetype": "text/x-python",
   "name": "python",
   "nbconvert_exporter": "python",
   "pygments_lexer": "ipython3",
   "version": "3.7.3"
  }
 },
 "nbformat": 4,
 "nbformat_minor": 2
}
